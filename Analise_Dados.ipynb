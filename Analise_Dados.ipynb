{
  "nbformat": 4,
  "nbformat_minor": 0,
  "metadata": {
    "colab": {
      "provenance": []
    },
    "kernelspec": {
      "name": "python3",
      "display_name": "Python 3"
    },
    "language_info": {
      "name": "python"
    }
  },
  "cells": [
    {
      "cell_type": "markdown",
      "source": [
        "# Problema do Mercado\n",
        "Os Principais Problemas dos hospitais no Brasil\n",
        "  - Longo tempo de espera\n",
        "  - Desperdício de tempo\n",
        "  - Má administração\n",
        "  - Falta de Organização\n",
        "\n",
        "Em tempos de pandemia esses problemas eclodiram\n",
        "##OBJ: BUSCAR VERIFICAR OS HOSPIATAIS QUE MAIS SE ENCAIXARAIM NO NEGOCIO COM BASE EM SUA AVALIAÇÃO\n",
        "Nossos Produtos podem ajudar a administrar o tempo e a melhora nos atendimentos com isso melhorando a avaliação dos hospitais.\n",
        "obs: todos os hospitais são dos EUA. junto com suas respectivas avaliações"
      ],
      "metadata": {
        "id": "4U3oV5HBchhc"
      }
    },
    {
      "cell_type": "markdown",
      "source": [
        "## ler traduzir"
      ],
      "metadata": {
        "id": "_iATCopuKoLl"
      }
    },
    {
      "cell_type": "code",
      "execution_count": null,
      "metadata": {
        "id": "e0oZ0Rr8SDJR"
      },
      "outputs": [],
      "source": [
        "import pandas as pd\n",
        "\n",
        "df = pd.read_excel('/content/drive/MyDrive/Projeto/hospital.xlsx')"
      ]
    },
    {
      "cell_type": "markdown",
      "source": [
        "### Trantando os Dados com o obj de ajudar o entendimento"
      ],
      "metadata": {
        "id": "O8a-rKJBs2Xf"
      }
    },
    {
      "cell_type": "code",
      "source": [
        "### Traduzindo o Dataframe\n",
        "colunas={'Provider ID':'ID', 'Hospital Name':'Nome Hospital', 'Address':'Endereco', 'City':'Cidade', 'State':'Estado', 'ZIP Code':'CEP',\n",
        "       'County Name':'Nome do Condado', 'Phone Number':'Telefone', 'Hospital Type':'Tipo do Hosiptal', 'Hospital Ownership':'Propriedade do hospital',\n",
        "       'Emergency Services':'Servico Emergencial', 'Meets criteria for meaningful use of EHRs':'Atende aos critérios para uso significativo de EHRs',\n",
        "       'Hospital overall rating':\"Pontoacao do Hospital\", 'Mortality national comparison':'Comparacao Mortalidade Nacional',\n",
        "       'Safety of care national comparison':'Comparação nacional de segurança do cuidado', 'Readmission national comparison':'Comparação nacional de readmissão',\n",
        "       'Patient experience national comparison':'Comparação nacional da experiência do paciente',\n",
        "       'Effectiveness of care national comparison':'Eficacia da comparação nacional de cuidados',\n",
        "       'Timeliness of care national comparison':\"Pontualidade do cuidado comparação nacional\",\n",
        "       'Efficient use of medical imaging national comparison':'Uso eficiente de comparação nacional de Imagiologia médica'}\n",
        "df=df.rename(columns=colunas)#renomeando os nomes para ficar mais facil o entendimento para todos\n",
        "#traduzindo os valores para o portugues para facilitar o entendimento de todos\n",
        "df['Tipo do Hosiptal'].replace({'Acute Care Hospitals':'Hospitais de Cuidados Agudos', 'Critical Access Hospitals':'Hospitais de Acesso Crítico', 'Childrens':'Criancas'},inplace=True)\n",
        "df['Propriedade do hospital'].replace({'Voluntary non-profit - Private':'Sem fins lucrativos voluntários - Privado','Government - Hospital District or Authority':'Governo - Distrito Hospitalar ou Autoridade','Government - Local':'Governo - Local', 'Voluntary non-profit - Other':'Organização sem fins lucrativos voluntária - Outros','Proprietary':'Proprietário', 'Government - State': 'Governo - Estado','Voluntary non-profit - Church':'Sem fins lucrativos voluntários - Igreja', 'Tribal':'Tribal', 'Government - Federal':'Governo - Federal','Physician':'Médico'},inplace=True)\n",
        "df['Servico Emergencial'].replace({'Yes':'Sim','No':'Não'},inplace=True)\n",
        "df['Atende aos critérios para uso significativo de EHRs'].replace({'Y':'S', 'Not Available':'Indisponivel'},inplace=True)\n",
        "df[['Pontoacao do Hospital', 'Comparacao Mortalidade Nacional','Comparação nacional de segurança do cuidado','Comparação nacional de readmissão','Comparação nacional da experiência do paciente','Eficacia da comparação nacional de cuidados','Pontualidade do cuidado comparação nacional','Uso eficiente de comparação nacional de Imagiologia médica']]=df[['Pontoacao do Hospital', 'Comparacao Mortalidade Nacional','Comparação nacional de segurança do cuidado','Comparação nacional de readmissão','Comparação nacional da experiência do paciente','Eficacia da comparação nacional de cuidados','Pontualidade do cuidado comparação nacional','Uso eficiente de comparação nacional de Imagiologia médica']].replace({'Not Available':'Indisponivel', 'Above the national average':'Acima da média nacional','Same as the national average':'Igual à média nacional', 'Below the national average':'Abaixo da média nacional'})"
      ],
      "metadata": {
        "id": "6MSJgl5gSVyM"
      },
      "execution_count": null,
      "outputs": []
    },
    {
      "cell_type": "markdown",
      "source": [
        "### verificando o nivel de cada avaliação e vendo as que são indisponiveis por falta de valores"
      ],
      "metadata": {
        "id": "Agi-3LOfsq7V"
      }
    },
    {
      "cell_type": "code",
      "source": [
        "print('Pontuação dos Hospitais')\n",
        "print(df['Pontoacao do Hospital'].value_counts(sort=False))\n",
        "df['Pontoacao do Hospital'].value_counts(sort=False).plot(kind='bar')"
      ],
      "metadata": {
        "colab": {
          "base_uri": "https://localhost:8080/",
          "height": 471
        },
        "id": "frnROsDHokvX",
        "outputId": "fbfb7cc4-f14a-4a3d-976b-18a73e57510d"
      },
      "execution_count": null,
      "outputs": [
        {
          "output_type": "stream",
          "name": "stdout",
          "text": [
            "Pontuação dos Hospitais\n",
            "Indisponivel    1245\n",
            "5                 82\n",
            "4                939\n",
            "3               1761\n",
            "2                678\n",
            "1                107\n",
            "Name: Pontoacao do Hospital, dtype: int64\n"
          ]
        },
        {
          "output_type": "execute_result",
          "data": {
            "text/plain": [
              "<matplotlib.axes._subplots.AxesSubplot at 0x7fa920979850>"
            ]
          },
          "metadata": {},
          "execution_count": 32
        },
        {
          "output_type": "display_data",
          "data": {
            "text/plain": [
              "<Figure size 432x288 with 1 Axes>"
            ],
            "image/png": "[encoded data removed]"
          },
          "metadata": {
            "needs_background": "light"
          }
        }
      ]
    },
    {
      "cell_type": "markdown",
      "source": [
        "## Objetivo da Analise\n",
        "essa será a nossa classificação basiada na necessidade, quando mais a empresa tem dificuldade mior a sua classificação dos leads\n",
        "  - leads quentes:\n",
        "    - São hospitais com baixa nota geral E com atendimento demorado\n",
        "  - leads mornos:\n",
        "    - São hospitais com baixo nota geral OU com o atendimento demorado\n",
        "  - leads Neutros:\n",
        "    - Pontuação desconhecido e com media de tempo atendimento igual a nacional\n",
        "    - Pontuação 4 para cima e com media de tempo atendimento igual a nacional\n",
        "  - leads frios:\n",
        "    - São hospitais com altas notas e com um atendimento rapido e eficaz\n"
      ],
      "metadata": {
        "id": "X2fIU1QoZRku"
      }
    },
    {
      "cell_type": "code",
      "source": [
        "final=df\n",
        "df['Pontoacao do Hospital'].replace({'Indisponivel':0},inplace=True)\n",
        "df['Pontoacao do Hospital']=df['Pontoacao do Hospital'].astype(int)"
      ],
      "metadata": {
        "id": "kw9K6P2Zd3s3"
      },
      "execution_count": null,
      "outputs": []
    },
    {
      "cell_type": "code",
      "source": [
        "#Frio\n",
        "df.loc[(df['Pontoacao do Hospital']>=4)|(df['Pontualidade do cuidado comparação nacional']=='Acima da média nacional'),'Qualidade do Lead']='Frio'\n",
        "#Neutro\n",
        "df.loc[df['Pontualidade do cuidado comparação nacional']=='Igual à média nacional','Qualidade do Lead']='Neutro'#acima de 4 ou 0 e media nacional\n",
        "#Morno\n",
        "df.loc[(df['Pontoacao do Hospital']<4)&(df['Pontoacao do Hospital']!=0),'Qualidade do Lead']='Morno'\n",
        "df.loc[df['Pontualidade do cuidado comparação nacional']=='Abaixo da média nacional','Qualidade do Lead']='Morno'\n",
        "#Quente\n",
        "df.loc[(df['Pontoacao do Hospital']<3)&(df['Pontoacao do Hospital']!=0)&(df['Pontualidade do cuidado comparação nacional']=='Abaixo da média nacional'),'Qualidade do Lead']='Quente'"
      ],
      "metadata": {
        "id": "MwSmYk1JccIK"
      },
      "execution_count": null,
      "outputs": []
    },
    {
      "cell_type": "code",
      "source": [
        "df['Pontoacao do Hospital']=df['Pontoacao do Hospital'].astype(str)#coloando em formato texto\n",
        "df['Pontoacao do Hospital'].replace({0:'Indisponivel'},inplace=True)"
      ],
      "metadata": {
        "id": "i2jVK5_huCSQ"
      },
      "execution_count": null,
      "outputs": []
    },
    {
      "cell_type": "code",
      "source": [
        "# Drop valores que não podemos classificar por falta de dados\n",
        "df.loc[(df['Pontoacao do Hospital']==0) & (df['Pontualidade do cuidado comparação nacional']=='Indisponivel'),['Pontoacao do Hospital','Pontualidade do cuidado comparação nacional']]=None\n",
        "df=df.dropna(subset=['Pontoacao do Hospital', 'Pontualidade do cuidado comparação nacional'])"
      ],
      "metadata": {
        "id": "ILoc7d8Hi443"
      },
      "execution_count": null,
      "outputs": []
    },
    {
      "cell_type": "code",
      "source": [
        "# Vizualizar a Classificação dos Leads inicial com os valores encontrados\n",
        "df['Qualidade do Lead'].fillna('Indisponivel',inplace=True)\n",
        "print(df['Qualidade do Lead'].value_counts())\n",
        "df['Qualidade do Lead'].value_counts().plot(kind='pie')"
      ],
      "metadata": {
        "colab": {
          "base_uri": "https://localhost:8080/",
          "height": 370
        },
        "id": "3p81Xrjllevi",
        "outputId": "aa0e8775-4112-4379-b12a-7c5a405282a7"
      },
      "execution_count": null,
      "outputs": [
        {
          "output_type": "stream",
          "name": "stdout",
          "text": [
            "Morno           2280\n",
            "Indisponivel    1014\n",
            "Neutro           559\n",
            "Frio             540\n",
            "Quente           419\n",
            "Name: Qualidade do Lead, dtype: int64\n"
          ]
        },
        {
          "output_type": "execute_result",
          "data": {
            "text/plain": [
              "<matplotlib.axes._subplots.AxesSubplot at 0x7fa91eaff990>"
            ]
          },
          "metadata": {},
          "execution_count": 37
        },
        {
          "output_type": "display_data",
          "data": {
            "text/plain": [
              "<Figure size 432x288 with 1 Axes>"
            ],
            "image/png": "[encoded data removed]"
          },
          "metadata": {}
        }
      ]
    },
    {
      "cell_type": "markdown",
      "source": [
        "Essa classificação pode ser mudada, ja que levei em consideração apenas duas colunas para classificar os leads, pois a demora nos atendimentos e a baixa nota geral parece ser o principal foco para entrarmos em contato, porem podemos posteriormenente fazer uma classificação mais relevante no valores insdisponivel e morno, e considerar outras colunas para fazer novas classificações"
      ],
      "metadata": {
        "id": "m9SXtcrnucYc"
      }
    },
    {
      "cell_type": "markdown",
      "source": [
        "## Tratando os Indisponiveis com uma anaise de pontuação"
      ],
      "metadata": {
        "id": "29udkfhal2p9"
      }
    },
    {
      "cell_type": "code",
      "source": [
        "#pontualizando para podermos escolher a classificação\n",
        "df[['Pontoacao do Hospital','Comparacao Mortalidade Nacional','Comparação nacional de segurança do cuidado','Comparação nacional de readmissão','Comparação nacional da experiência do paciente','Eficacia da comparação nacional de cuidados','Pontualidade do cuidado comparação nacional','Uso eficiente de comparação nacional de Imagiologia médica']]=df[['Pontoacao do Hospital','Comparacao Mortalidade Nacional','Comparação nacional de segurança do cuidado','Comparação nacional de readmissão','Comparação nacional da experiência do paciente','Eficacia da comparação nacional de cuidados','Pontualidade do cuidado comparação nacional','Uso eficiente de comparação nacional de Imagiologia médica']].replace({'Indisponivel':0,'Igual à média nacional':1,'Abaixo da média nacional':3,'Acima da média nacional':0})\n",
        "df[['Pontoacao do Hospital', 'Comparacao Mortalidade Nacional','Comparação nacional de segurança do cuidado','Comparação nacional de readmissão','Comparação nacional da experiência do paciente','Eficacia da comparação nacional de cuidados','Pontualidade do cuidado comparação nacional','Uso eficiente de comparação nacional de Imagiologia médica']]=df[['Pontoacao do Hospital', 'Comparacao Mortalidade Nacional','Comparação nacional de segurança do cuidado','Comparação nacional de readmissão','Comparação nacional da experiência do paciente','Eficacia da comparação nacional de cuidados','Pontualidade do cuidado comparação nacional','Uso eficiente de comparação nacional de Imagiologia médica']].astype(int)"
      ],
      "metadata": {
        "id": "H7VNM7dmRRGJ"
      },
      "execution_count": null,
      "outputs": []
    },
    {
      "cell_type": "code",
      "source": [
        "df['Pontoacao do Hospital']=df['Pontoacao do Hospital'].replace({4:0,5:-1,3:1,1:3})\n",
        "df['Total']=df[['Pontoacao do Hospital', 'Comparacao Mortalidade Nacional','Comparação nacional de segurança do cuidado','Comparação nacional de readmissão','Comparação nacional da experiência do paciente','Eficacia da comparação nacional de cuidados','Pontualidade do cuidado comparação nacional','Uso eficiente de comparação nacional de Imagiologia médica']].sum(axis=1)"
      ],
      "metadata": {
        "id": "h01BuMINNF4e"
      },
      "execution_count": null,
      "outputs": []
    },
    {
      "cell_type": "code",
      "source": [
        "df.loc[(df['Total']>=3)&(df['Qualidade do Lead']=='Indisponivel'),'Qualidade do Lead']='Neutro' #Neutro\n",
        "df.loc[(df['Total']<3)&(df['Qualidade do Lead']=='Indisponivel'),'Qualidade do Lead']='Frio' #Frio"
      ],
      "metadata": {
        "id": "jotSDfNpUKKC"
      },
      "execution_count": null,
      "outputs": []
    },
    {
      "cell_type": "code",
      "source": [
        "print(df['Qualidade do Lead'].value_counts())\n",
        "df['Qualidade do Lead'].value_counts().plot(kind='pie')"
      ],
      "metadata": {
        "colab": {
          "base_uri": "https://localhost:8080/",
          "height": 352
        },
        "id": "T2-RspoLYuiv",
        "outputId": "a6a31d88-b1e9-42cc-aea9-da1f2df22ea6"
      },
      "execution_count": null,
      "outputs": [
        {
          "output_type": "stream",
          "name": "stdout",
          "text": [
            "Morno     2280\n",
            "Frio      1527\n",
            "Neutro     586\n",
            "Quente     419\n",
            "Name: Qualidade do Lead, dtype: int64\n"
          ]
        },
        {
          "output_type": "execute_result",
          "data": {
            "text/plain": [
              "<matplotlib.axes._subplots.AxesSubplot at 0x7fa91e81c490>"
            ]
          },
          "metadata": {},
          "execution_count": 41
        },
        {
          "output_type": "display_data",
          "data": {
            "text/plain": [
              "<Figure size 432x288 with 1 Axes>"
            ],
            "image/png": "[encoded data removed]"
          },
          "metadata": {}
        }
      ]
    },
    {
      "cell_type": "markdown",
      "source": [
        "## Tratar mornos que são quentes e neutros"
      ],
      "metadata": {
        "id": "dSeFYMG4mAhe"
      }
    },
    {
      "cell_type": "code",
      "source": [
        "df.loc[(df['Qualidade do Lead']=='Morno')&(df['Total']>=16),'Qualidade do Lead']=\"Quente\"\n",
        "df.loc[(df['Qualidade do Lead']=='Morno')&(df['Total']<=6)&(df['Pontualidade do cuidado comparação nacional']!=3),'Qualidade do Lead']='Neutro'"
      ],
      "metadata": {
        "id": "9ycZSjpWMbJ-"
      },
      "execution_count": null,
      "outputs": []
    },
    {
      "cell_type": "code",
      "source": [
        "print(df['Qualidade do Lead'].value_counts())\n",
        "df['Qualidade do Lead'].value_counts().plot(kind='pie')"
      ],
      "metadata": {
        "id": "URVTDGo3PcE-",
        "outputId": "4331b54c-00b8-4152-bdfe-079f4385ce07",
        "colab": {
          "base_uri": "https://localhost:8080/",
          "height": 352
        }
      },
      "execution_count": null,
      "outputs": [
        {
          "output_type": "stream",
          "name": "stdout",
          "text": [
            "Morno     1665\n",
            "Frio      1527\n",
            "Neutro    1164\n",
            "Quente     456\n",
            "Name: Qualidade do Lead, dtype: int64\n"
          ]
        },
        {
          "output_type": "execute_result",
          "data": {
            "text/plain": [
              "<matplotlib.axes._subplots.AxesSubplot at 0x7fa91e9a2490>"
            ]
          },
          "metadata": {},
          "execution_count": 43
        },
        {
          "output_type": "display_data",
          "data": {
            "text/plain": [
              "<Figure size 432x288 with 1 Axes>"
            ],
            "image/png": "[encoded data removed]"
          },
          "metadata": {}
        }
      ]
    },
    {
      "cell_type": "code",
      "source": [
        "tabela=df['Qualidade do Lead'].value_counts()"
      ],
      "metadata": {
        "id": "5P7-5vHAqB6E"
      },
      "execution_count": null,
      "outputs": []
    },
    {
      "cell_type": "markdown",
      "source": [
        "## Vizualizar os top quentes "
      ],
      "metadata": {
        "id": "47Gj5UdhmJpK"
      }
    },
    {
      "cell_type": "code",
      "source": [
        "df.loc[(df['Qualidade do Lead']=='Quente')&(df['Total']>=19),'Top']='Sim'\n",
        "df['Top'].fillna('Não',inplace=True)"
      ],
      "metadata": {
        "id": "KvDP4lgAmNVg"
      },
      "execution_count": null,
      "outputs": []
    },
    {
      "cell_type": "code",
      "source": [
        "final['Qualidade do Lead']=df['Qualidade do Lead']\n",
        "final['Total'] = df['Total']"
      ],
      "metadata": {
        "id": "EUITtASUo36Z"
      },
      "execution_count": null,
      "outputs": []
    },
    {
      "cell_type": "markdown",
      "source": [
        "## Planilha Final"
      ],
      "metadata": {
        "id": "gGcWc3w-pgQ9"
      }
    },
    {
      "cell_type": "code",
      "source": [
        "qual_est=final[['Estado','Qualidade do Lead']].value_counts()\n",
        "est_count=final['Estado'].value_counts()"
      ],
      "metadata": {
        "id": "uRI4RR0J2qKg"
      },
      "execution_count": null,
      "outputs": []
    },
    {
      "cell_type": "code",
      "source": [
        "# final.to_excel('/content/drive/MyDrive/Projeto/hospital_analisado.xlsx',index=False)\n",
        "# tabela.to_excel('/content/drive/MyDrive/Projeto/tabela.xlsx')\n",
        "with pd.ExcelWriter('/content/drive/MyDrive/Projeto/hospital_analisado.xlsx') as writer:  \n",
        "    final.to_excel(writer, sheet_name='Hospitais',index=False)\n",
        "    tabela.to_excel(writer, sheet_name='Counts')\n",
        "    qual_est.to_excel(writer, sheet_name='Counts_est_qualif')\n",
        "    est_count.to_excel(writer, sheet_name='Counts_est')"
      ],
      "metadata": {
        "id": "xjZnxn5RpGHL"
      },
      "execution_count": null,
      "outputs": []
    }
  ]
}